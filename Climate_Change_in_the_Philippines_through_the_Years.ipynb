{
  "cells": [
    {
      "cell_type": "markdown",
      "metadata": {
        "id": "view-in-github",
        "colab_type": "text"
      },
      "source": [
        "<a href=\"https://colab.research.google.com/github/edbertocampo/ITBA3206-PROJECT-GAIA/blob/main/Climate_Change_in_the_Philippines_through_the_Years.ipynb\" target=\"_parent\"><img src=\"https://colab.research.google.com/assets/colab-badge.svg\" alt=\"Open In Colab\"/></a>"
      ]
    },
    {
      "cell_type": "markdown",
      "metadata": {
        "id": "ExA_R43Jtpks"
      },
      "source": [
        "# Climate Change in the Philippines through the Years"
      ]
    },
    {
      "cell_type": "markdown",
      "metadata": {
        "id": "hFY_QR4wt0nk"
      },
      "source": [
        "This analysis focuses on the eleventh (11) and thirteenth (13) SDG which is the sustainable cities and cities and climate action. The objective of this analysis is to observe the changes of the Philippine temperature. The datasets are from Climate Change Knowledge Portal which will guide the analysis to procure the requisite of the yearly changes from 1901 - 2020. This study will be the evidence that if the Filipino will consistently neglect the nature it will cause an extreme climate change in the future."
      ]
    },
    {
      "cell_type": "markdown",
      "metadata": {
        "id": "ouPAusTbuEde"
      },
      "source": [
        "# Importing all the libraries needed in the analysis"
      ]
    },
    {
      "cell_type": "code",
      "execution_count": 9,
      "metadata": {
        "id": "biCTawGFuz5P"
      },
      "outputs": [],
      "source": [
        "import numpy as np\n",
        "import pandas as pd\n",
        "from matplotlib import pyplot as plt\n",
        "import csv"
      ]
    },
    {
      "cell_type": "markdown",
      "source": [
        "# Uploading the datasets (.csv files)"
      ],
      "metadata": {
        "id": "rbu0E5TFxU5Z"
      }
    },
    {
      "cell_type": "code",
      "source": [
        "annual_mean = 'https://github.com/edbertocampo/ITBA3206-PROJECT-GAIA/raw/main/datasets/tas_timeseries_annual_cru_1901-2020_PHL.csv'\n",
        "annual_min = 'https://github.com/edbertocampo/ITBA3206-PROJECT-GAIA/raw/main/datasets/tasmin_timeseries_annual_cru_1901-2020_PHL.csv'\n",
        "annual_max = 'https://github.com/edbertocampo/ITBA3206-PROJECT-GAIA/raw/main/datasets/tasmax_timeseries_annual_cru_1901-2020_PHL.csv'\n",
        "monthly_mean = 'https://github.com/edbertocampo/ITBA3206-PROJECT-GAIA/raw/main/datasets/tas_timeseries_monthly_cru_1901-2020_PHL.csv'\n",
        "monthly_min = 'https://github.com/edbertocampo/ITBA3206-PROJECT-GAIA/raw/main/datasets/tasmin_timeseries_monthly_cru_1901-2020_PHL.csv' \n",
        "monthly_max = 'https://github.com/edbertocampo/ITBA3206-PROJECT-GAIA/raw/main/datasets/tasmax_timeseries_monthly_cru_1901-2020_PHL.csv'\n",
        "annual_precipitation = 'https://github.com/edbertocampo/ITBA3206-PROJECT-GAIA/raw/main/datasets/pr_timeseries_annual_cru_1901-2020_PHL.csv'\n",
        "monthly_precipitation = 'https://github.com/edbertocampo/ITBA3206-PROJECT-GAIA/raw/main/datasets/pr_timeseries_monthly_cru_1901-2020_PHL.csv'\n",
        "climatology_1 = 'https://github.com/edbertocampo/ITBA3206-PROJECT-GAIA/raw/main/datasets/tas_climatology_annual-monthly_cru_1901-1930_PHL.csv'\n",
        "climatology_2 = 'https://github.com/edbertocampo/ITBA3206-PROJECT-GAIA/raw/main/datasets/tas_climatology_annual-monthly_cru_1931-1960_PHL.csv'\n",
        "climatology_3 = 'https://github.com/edbertocampo/ITBA3206-PROJECT-GAIA/raw/main/datasets/tas_climatology_annual-monthly_cru_1961-1990_PHL.csv'\n",
        "climatology_4 = 'https://github.com/edbertocampo/ITBA3206-PROJECT-GAIA/raw/main/datasets/tas_climatology_annual-monthly_cru_1991-2020_PHL.csv'\n"
      ],
      "metadata": {
        "id": "nMZuvy_axf2L"
      },
      "execution_count": 38,
      "outputs": []
    },
    {
      "cell_type": "markdown",
      "source": [
        "# Reading and Printing the datasets(.csv files)"
      ],
      "metadata": {
        "id": "ETp5G2kjy0N6"
      }
    },
    {
      "cell_type": "code",
      "source": [
        "annualmean =  pd.read_csv(annual_mean)\n",
        "annualmin = pd.read_csv(annual_min)\n",
        "annualmax = pd.read_csv(annual_max)\n",
        "monthlymean =  pd.read_csv(monthly_mean)\n",
        "monthlymin = pd.read_csv(monthly_min)\n",
        "monthlymax = pd.read_csv(monthly_max)\n",
        "annualprecipitation = pd.read_csv(annual_precipitation)\n",
        "monthlyprecipitation = pd.read_csv(monthly_precipitation)\n",
        "climatology1 = pd.read_csv(climatology_1)\n",
        "climatology2 = pd.read_csv(climatology_2)\n",
        "climatology3 = pd.read_csv(climatology_3)\n",
        "climatology4 = pd.read_csv(climatology_4)"
      ],
      "metadata": {
        "id": "ObPVhD1_4HsD"
      },
      "execution_count": 39,
      "outputs": []
    }
  ],
  "metadata": {
    "colab": {
      "name": "Climate_Change_in_the_Philippines_through_the_Years.ipynb",
      "provenance": [],
      "authorship_tag": "ABX9TyN4k1MblBJBFRTEl7/CaYO4",
      "include_colab_link": true
    },
    "kernelspec": {
      "display_name": "Python 3",
      "name": "python3"
    },
    "language_info": {
      "name": "python"
    }
  },
  "nbformat": 4,
  "nbformat_minor": 0
}